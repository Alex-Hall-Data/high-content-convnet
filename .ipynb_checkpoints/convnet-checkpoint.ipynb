{
 "cells": [
  {
   "cell_type": "markdown",
   "metadata": {},
   "source": [
    "Read in images and extract image classes.\n",
    "Credit to Kevin Mader for this section: https://www.kaggle.com/mholub/image-overview\n"
   ]
  },
  {
   "cell_type": "code",
   "execution_count": 3,
   "metadata": {
    "collapsed": true
   },
   "outputs": [],
   "source": [
    "import os\n",
    "import numpy as np \n",
    "import pandas as pd \n",
    "from glob import glob\n",
    "from PIL import Image\n",
    "import matplotlib.pyplot as plt"
   ]
  },
  {
   "cell_type": "code",
   "execution_count": 7,
   "metadata": {},
   "outputs": [
    {
     "data": {
      "text/plain": [
       "'C:/Users/Alex/Documents/GitHub/high-content-convnet/high-content-convnet/BBBC010_v1_images\\\\1649_1109_0003_Amp5-1_B_20070424_A02_w1_773004B9-5D0A-4322-AFC2-CF6D9D5068A9.tif'"
      ]
     },
     "execution_count": 7,
     "metadata": {},
     "output_type": "execute_result"
    }
   ],
   "source": [
    "# load input images\n",
    "all_tif_images=glob('C:/Users/Alex/Documents/GitHub/high-content-convnet/high-content-convnet/BBBC010_v1_images/*_w1_*.tif')\n",
    "all_fg_images=glob('C:/Users/Alex/Documents/GitHub/high-content-convnet/high-content-convnet/BBBC010_v1_foreground/*.png')\n",
    "# put input images paths into pandas DataFrame\n",
    "image_df=pd.DataFrame([{'gfp_path': f} for f in all_tif_images])\n",
    "\n",
    "image_df.iloc[1,0]"
   ]
  },
  {
   "cell_type": "code",
   "execution_count": 5,
   "metadata": {},
   "outputs": [
    {
     "data": {
      "text/html": [
       "<div>\n",
       "<style>\n",
       "    .dataframe thead tr:only-child th {\n",
       "        text-align: right;\n",
       "    }\n",
       "\n",
       "    .dataframe thead th {\n",
       "        text-align: left;\n",
       "    }\n",
       "\n",
       "    .dataframe tbody tr th {\n",
       "        vertical-align: top;\n",
       "    }\n",
       "</style>\n",
       "<table border=\"1\" class=\"dataframe\">\n",
       "  <thead>\n",
       "    <tr style=\"text-align: right;\">\n",
       "      <th></th>\n",
       "    </tr>\n",
       "  </thead>\n",
       "  <tbody>\n",
       "  </tbody>\n",
       "</table>\n",
       "</div>"
      ],
      "text/plain": [
       "Empty DataFrame\n",
       "Columns: []\n",
       "Index: []"
      ]
     },
     "execution_count": 5,
     "metadata": {},
     "output_type": "execute_result"
    }
   ],
   "source": []
  },
  {
   "cell_type": "code",
   "execution_count": 8,
   "metadata": {},
   "outputs": [
    {
     "data": {
      "text/plain": [
       "'1649_1109_0003_Amp5-1_B_20070424_A02_w1_773004B9-5D0A-4322-AFC2-CF6D9D5068A9'"
      ]
     },
     "execution_count": 8,
     "metadata": {},
     "output_type": "execute_result"
    }
   ],
   "source": [
    "# define mapping function\n",
    "def _get_light_path(in_path):\n",
    "    w2_path='_w2_'.join(in_path.split('_w1_'))\n",
    "    glob_str='_'.join(w2_path.split('_')[:-1]+['*.tif'])\n",
    "    m_files=glob(glob_str)\n",
    "    if len(m_files)>0:\n",
    "        return m_files[0]\n",
    "    else:\n",
    "        return None\n",
    "# create new columns with yet another paths\n",
    "image_df['light_path']=image_df['gfp_path'].map(_get_light_path)\n",
    "image_df=image_df.dropna()\n",
    "image_df['base_name']=image_df['gfp_path'].map(lambda x: os.path.splitext(os.path.basename(x))[0])\n",
    "\n",
    "image_df['base_name'][1]"
   ]
  },
  {
   "cell_type": "code",
   "execution_count": 9,
   "metadata": {},
   "outputs": [
    {
     "name": "stdout",
     "output_type": "stream",
     "text": [
      "Loaded 97 datasets\n"
     ]
    },
    {
     "data": {
      "text/html": [
       "<div>\n",
       "<style>\n",
       "    .dataframe thead tr:only-child th {\n",
       "        text-align: right;\n",
       "    }\n",
       "\n",
       "    .dataframe thead th {\n",
       "        text-align: left;\n",
       "    }\n",
       "\n",
       "    .dataframe tbody tr th {\n",
       "        vertical-align: top;\n",
       "    }\n",
       "</style>\n",
       "<table border=\"1\" class=\"dataframe\">\n",
       "  <thead>\n",
       "    <tr style=\"text-align: right;\">\n",
       "      <th></th>\n",
       "      <th>gfp_path</th>\n",
       "      <th>light_path</th>\n",
       "      <th>base_name</th>\n",
       "      <th>plate_rc</th>\n",
       "      <th>row</th>\n",
       "      <th>column</th>\n",
       "      <th>treated</th>\n",
       "      <th>wavelength</th>\n",
       "      <th>mask_path</th>\n",
       "    </tr>\n",
       "  </thead>\n",
       "  <tbody>\n",
       "    <tr>\n",
       "      <th>59</th>\n",
       "      <td>C:/Users/Alex/Documents/GitHub/high-content-co...</td>\n",
       "      <td>C:/Users/Alex/Documents/GitHub/high-content-co...</td>\n",
       "      <td>1649_1109_0003_Amp5-1_B_20070424_C12_w1_E478C4...</td>\n",
       "      <td>C12</td>\n",
       "      <td>C</td>\n",
       "      <td>12</td>\n",
       "      <td>True</td>\n",
       "      <td>w1</td>\n",
       "      <td>../input/BBBC010_v1_foreground/C12_binary.png</td>\n",
       "    </tr>\n",
       "    <tr>\n",
       "      <th>9</th>\n",
       "      <td>C:/Users/Alex/Documents/GitHub/high-content-co...</td>\n",
       "      <td>C:/Users/Alex/Documents/GitHub/high-content-co...</td>\n",
       "      <td>1649_1109_0003_Amp5-1_B_20070424_A10_w1_44D4E7...</td>\n",
       "      <td>A10</td>\n",
       "      <td>A</td>\n",
       "      <td>10</td>\n",
       "      <td>True</td>\n",
       "      <td>w1</td>\n",
       "      <td>../input/BBBC010_v1_foreground/A10_binary.png</td>\n",
       "    </tr>\n",
       "    <tr>\n",
       "      <th>3</th>\n",
       "      <td>C:/Users/Alex/Documents/GitHub/high-content-co...</td>\n",
       "      <td>C:/Users/Alex/Documents/GitHub/high-content-co...</td>\n",
       "      <td>1649_1109_0003_Amp5-1_B_20070424_A04_w1_627EA5...</td>\n",
       "      <td>A04</td>\n",
       "      <td>A</td>\n",
       "      <td>4</td>\n",
       "      <td>True</td>\n",
       "      <td>w1</td>\n",
       "      <td>../input/BBBC010_v1_foreground/A04_binary.png</td>\n",
       "    </tr>\n",
       "  </tbody>\n",
       "</table>\n",
       "</div>"
      ],
      "text/plain": [
       "                                             gfp_path  \\\n",
       "59  C:/Users/Alex/Documents/GitHub/high-content-co...   \n",
       "9   C:/Users/Alex/Documents/GitHub/high-content-co...   \n",
       "3   C:/Users/Alex/Documents/GitHub/high-content-co...   \n",
       "\n",
       "                                           light_path  \\\n",
       "59  C:/Users/Alex/Documents/GitHub/high-content-co...   \n",
       "9   C:/Users/Alex/Documents/GitHub/high-content-co...   \n",
       "3   C:/Users/Alex/Documents/GitHub/high-content-co...   \n",
       "\n",
       "                                            base_name plate_rc row  column  \\\n",
       "59  1649_1109_0003_Amp5-1_B_20070424_C12_w1_E478C4...      C12   C      12   \n",
       "9   1649_1109_0003_Amp5-1_B_20070424_A10_w1_44D4E7...      A10   A      10   \n",
       "3   1649_1109_0003_Amp5-1_B_20070424_A04_w1_627EA5...      A04   A       4   \n",
       "\n",
       "    treated wavelength                                      mask_path  \n",
       "59     True         w1  ../input/BBBC010_v1_foreground/C12_binary.png  \n",
       "9      True         w1  ../input/BBBC010_v1_foreground/A10_binary.png  \n",
       "3      True         w1  ../input/BBBC010_v1_foreground/A04_binary.png  "
      ]
     },
     "execution_count": 9,
     "metadata": {},
     "output_type": "execute_result"
    }
   ],
   "source": [
    "# Extract data from the image name\n",
    "\n",
    "# clearly this is not the case\n",
    "# <plate>_<wellrow>_<wellcolumn>_<wavelength>_<fileid>.tif\n",
    "# Columns 1-12 are positive controls treated with ampicillin. Columns 13-24 are untreated negative controls.\n",
    "# we apply a new rule\n",
    "# 1649_1109_0003_Amp5-1_B_20070424_A01_w1_9E84F49F-1B25-4E7E-8040-D1BB2D7E73EA.tif\n",
    "# junk_junk_junk_junk_junk_date_RowCol_wavelength_id.tif\n",
    "\n",
    "image_df['plate_rc']=image_df['base_name'].map(lambda x: x.split('_')[6])\n",
    "image_df['row']=image_df['plate_rc'].map(lambda x: x[0:1])\n",
    "image_df['column']=image_df['plate_rc'].map(lambda x: int(x[1:]))\n",
    "image_df['treated']=image_df['column'].map(lambda x: x<13)\n",
    "image_df['wavelength']=image_df['base_name'].map(lambda x: x.split('_')[7])\n",
    "\n",
    "image_df['mask_path']=image_df['plate_rc'].map(lambda x: '../input/BBBC010_v1_foreground/{}_binary.png'.format(x))\n",
    "print('Loaded',image_df.shape[0],'datasets')\n",
    "# pd.df.sample - Returns a random sample of items from an axis of object.\n",
    "image_df.sample(3)"
   ]
  },
  {
   "cell_type": "markdown",
   "metadata": {},
   "source": [
    "Import a test image. For now, we're just using the GFP channel"
   ]
  },
  {
   "cell_type": "code",
   "execution_count": 21,
   "metadata": {},
   "outputs": [
    {
     "data": {
      "text/plain": [
       "<matplotlib.image.AxesImage at 0x294a8c39be0>"
      ]
     },
     "execution_count": 21,
     "metadata": {},
     "output_type": "execute_result"
    },
    {
     "data": {
      "image/png": "[encoded data removed]",
      "text/plain": [
       "<matplotlib.figure.Figure at 0x294a89beeb8>"
      ]
     },
     "metadata": {},
     "output_type": "display_data"
    }
   ],
   "source": [
    "%matplotlib inline\n",
    "test_image_row=list(image_df.query('treated').sample(1).T.to_dict().values())[0]\n",
    "test_img=Image.open(test_image_row['gfp_path'])\n",
    "plt.imshow(test_img)"
   ]
  },
  {
   "cell_type": "markdown",
   "metadata": {},
   "source": [
    "Now import all the GFP channel images and save as a list of numpy arrays"
   ]
  },
  {
   "cell_type": "code",
   "execution_count": 25,
   "metadata": {},
   "outputs": [
    {
     "data": {
      "text/plain": [
       "97"
      ]
     },
     "execution_count": 25,
     "metadata": {},
     "output_type": "execute_result"
    }
   ],
   "source": [
    "for i in range(0,np.shape(image_df)[0]):\n",
    "    \n"
   ]
  },
  {
   "cell_type": "code",
   "execution_count": null,
   "metadata": {
    "collapsed": true
   },
   "outputs": [],
   "source": []
  }
 ],
 "metadata": {
  "kernelspec": {
   "display_name": "Python 3",
   "language": "python",
   "name": "python3"
  },
  "language_info": {
   "codemirror_mode": {
    "name": "ipython",
    "version": 3
   },
   "file_extension": ".py",
   "mimetype": "text/x-python",
   "name": "python",
   "nbconvert_exporter": "python",
   "pygments_lexer": "ipython3",
   "version": "3.5.4"
  }
 },
 "nbformat": 4,
 "nbformat_minor": 2
}
