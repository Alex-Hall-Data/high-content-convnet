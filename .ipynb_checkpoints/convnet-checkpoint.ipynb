{
 "cells": [
  {
   "cell_type": "markdown",
   "metadata": {},
   "source": [
    "## Read in images and extract image classes.\n",
    "Credit to Kevin Mader for this section: https://www.kaggle.com/mholub/image-overview\n"
   ]
  },
  {
   "cell_type": "code",
   "execution_count": null,
   "metadata": {
    "collapsed": true
   },
   "outputs": [],
   "source": [
    "import os\n",
    "import numpy as np \n",
    "import pandas as pd \n",
    "from glob import glob\n",
    "from PIL import Image\n",
    "import matplotlib.pyplot as plt"
   ]
  },
  {
   "cell_type": "code",
   "execution_count": null,
   "metadata": {},
   "outputs": [],
   "source": [
    "# load input images\n",
    "all_tif_images=glob('C:/Users/Alex/Documents/GitHub/high-content-convnet/high-content-convnet/BBBC010_v1_images/*_w1_*.tif')\n",
    "all_fg_images=glob('C:/Users/Alex/Documents/GitHub/high-content-convnet/high-content-convnet/BBBC010_v1_foreground/*.png')\n",
    "# put input images paths into pandas DataFrame\n",
    "image_df=pd.DataFrame([{'gfp_path': f} for f in all_tif_images])\n",
    "\n",
    "image_df.iloc[1,0]"
   ]
  },
  {
   "cell_type": "code",
   "execution_count": null,
   "metadata": {
    "collapsed": true
   },
   "outputs": [],
   "source": []
  },
  {
   "cell_type": "code",
   "execution_count": null,
   "metadata": {},
   "outputs": [],
   "source": [
    "# define mapping function\n",
    "def _get_light_path(in_path):\n",
    "    w2_path='_w2_'.join(in_path.split('_w1_'))\n",
    "    glob_str='_'.join(w2_path.split('_')[:-1]+['*.tif'])\n",
    "    m_files=glob(glob_str)\n",
    "    if len(m_files)>0:\n",
    "        return m_files[0]\n",
    "    else:\n",
    "        return None\n",
    "# create new columns with yet another paths\n",
    "image_df['light_path']=image_df['gfp_path'].map(_get_light_path)\n",
    "image_df=image_df.dropna()\n",
    "image_df['base_name']=image_df['gfp_path'].map(lambda x: os.path.splitext(os.path.basename(x))[0])\n",
    "\n",
    "image_df['base_name'][1]"
   ]
  },
  {
   "cell_type": "code",
   "execution_count": null,
   "metadata": {},
   "outputs": [],
   "source": [
    "# Extract data from the image name\n",
    "\n",
    "# clearly this is not the case\n",
    "# <plate>_<wellrow>_<wellcolumn>_<wavelength>_<fileid>.tif\n",
    "# Columns 1-12 are positive controls treated with ampicillin. Columns 13-24 are untreated negative controls.\n",
    "# we apply a new rule\n",
    "# 1649_1109_0003_Amp5-1_B_20070424_A01_w1_9E84F49F-1B25-4E7E-8040-D1BB2D7E73EA.tif\n",
    "# junk_junk_junk_junk_junk_date_RowCol_wavelength_id.tif\n",
    "\n",
    "image_df['plate_rc']=image_df['base_name'].map(lambda x: x.split('_')[6])\n",
    "image_df['row']=image_df['plate_rc'].map(lambda x: x[0:1])\n",
    "image_df['column']=image_df['plate_rc'].map(lambda x: int(x[1:]))\n",
    "image_df['treated']=image_df['column'].map(lambda x: x<13)\n",
    "image_df['wavelength']=image_df['base_name'].map(lambda x: x.split('_')[7])\n",
    "\n",
    "image_df['mask_path']=image_df['plate_rc'].map(lambda x: '../input/BBBC010_v1_foreground/{}_binary.png'.format(x))\n",
    "print('Loaded',image_df.shape[0],'datasets')\n",
    "# pd.df.sample - Returns a random sample of items from an axis of object.\n",
    "image_df.sample(3)"
   ]
  },
  {
   "cell_type": "markdown",
   "metadata": {},
   "source": [
    "## Import images and process.\n",
    "For now, we're just using the GFP channel"
   ]
  },
  {
   "cell_type": "code",
   "execution_count": null,
   "metadata": {},
   "outputs": [],
   "source": [
    "%matplotlib inline\n",
    "test_image_row=list(image_df.query('treated').sample(1).T.to_dict().values())[0]\n",
    "test_img=Image.open(test_image_row['gfp_path'])\n",
    "test_img_array=np.array(test_img)\n",
    "print(np.shape(test_img_array))\n",
    "plt.imshow(test_img)"
   ]
  },
  {
   "cell_type": "markdown",
   "metadata": {},
   "source": [
    "Now import all the GFP channel images and save as a list of numpy arrays\n",
    "Split into a train and test set and save corresponding labels"
   ]
  },
  {
   "cell_type": "code",
   "execution_count": null,
   "metadata": {
    "collapsed": true
   },
   "outputs": [],
   "source": [
    "x_train=list()\n",
    "y_train=list()\n",
    "for i in range(0,int(np.shape(image_df)[0]*0.7)):\n",
    "    x_train.append(np.array(Image.open(image_df.iloc[i]['gfp_path'])))\n",
    "    y_train.append(int(image_df.iloc[i]['treated']))\n",
    "    \n",
    "x_test=list()\n",
    "y_test=list()\n",
    "for i in range(int(np.shape(image_df)[0]*0.7),np.shape(image_df)[0]):\n",
    "    x_test.append(np.array(Image.open(image_df.iloc[i]['gfp_path'])))\n",
    "    y_test.append(int(image_df.iloc[i]['treated']))\n",
    "    \n"
   ]
  },
  {
   "cell_type": "code",
   "execution_count": null,
   "metadata": {
    "collapsed": true
   },
   "outputs": [],
   "source": [
    "x_train=np.array(x_train)\n",
    "x_test=np.array(x_test)\n",
    "y_train=np.array(y_train)\n",
    "y_test=np.array(y_test)"
   ]
  },
  {
   "cell_type": "markdown",
   "metadata": {},
   "source": [
    "## Make helper functions to assist with data transformation"
   ]
  },
  {
   "cell_type": "code",
   "execution_count": null,
   "metadata": {
    "collapsed": true
   },
   "outputs": [],
   "source": [
    "#we want to one-hot encode the results\n",
    "def one_hot_encode(vec, vals=2):\n",
    "    '''\n",
    "    For use to one-hot encode the 2 possible labels\n",
    "    '''\n",
    "    n = len(vec)\n",
    "    out = np.zeros((n, vals))\n",
    "    out[range(n), vec] = 1\n",
    "    return out"
   ]
  },
  {
   "cell_type": "code",
   "execution_count": null,
   "metadata": {
    "collapsed": true
   },
   "outputs": [],
   "source": [
    "y_train = one_hot_encode(y_train, 2)\n",
    "y_test = one_hot_encode(y_test,2)"
   ]
  },
  {
   "cell_type": "markdown",
   "metadata": {},
   "source": [
    "## Create Model"
   ]
  },
  {
   "cell_type": "code",
   "execution_count": null,
   "metadata": {
    "collapsed": true
   },
   "outputs": [],
   "source": [
    "import tensorflow as tf\n",
    "x = tf.placeholder(tf.float32,shape=[None,520,696])\n",
    "y_true = tf.placeholder(tf.float32,shape=[None,2])\n",
    "dropprob = tf.placeholder(tf.float32) #used for dropout"
   ]
  },
  {
   "cell_type": "markdown",
   "metadata": {},
   "source": [
    "Helper functions for building the model"
   ]
  },
  {
   "cell_type": "code",
   "execution_count": null,
   "metadata": {
    "collapsed": true
   },
   "outputs": [],
   "source": [
    "def init_weights(shape):\n",
    "    init_random_dist = tf.truncated_normal(shape, stddev=0.1)\n",
    "    return tf.Variable(init_random_dist)\n",
    "\n",
    "def init_bias(shape):\n",
    "    init_bias_vals = tf.constant(0.1, shape=shape)\n",
    "    return tf.Variable(init_bias_vals)\n",
    "\n",
    "def conv2d(x, W):\n",
    "    return tf.nn.conv2d(x, W, strides=[1, 1, 1, 1], padding='SAME')\n",
    "\n",
    "def max_pool_2by2(x):\n",
    "    return tf.nn.max_pool(x, ksize=[1, 2, 2, 1],\n",
    "                          strides=[1, 2, 2, 1], padding='SAME')\n",
    "\n",
    "def convolutional_layer(input_x, shape):\n",
    "    W = init_weights(shape)\n",
    "    b = init_bias([shape[3]])\n",
    "    return tf.nn.relu(conv2d(input_x, W) + b)\n",
    "\n",
    "def normal_full_layer(input_layer, size):\n",
    "    input_size = int(input_layer.get_shape()[1])\n",
    "    W = init_weights([input_size, size])\n",
    "    b = init_bias([size])\n",
    "    return tf.matmul(input_layer, W) + b"
   ]
  },
  {
   "cell_type": "markdown",
   "metadata": {},
   "source": [
    "# Creating CNN layers\n",
    "Building up a network by creating convolutional and pooling layers. The number and size of these layers would be tuned to find optimal values if we were carrying out a more detailed analysis."
   ]
  },
  {
   "cell_type": "code",
   "execution_count": null,
   "metadata": {
    "collapsed": true
   },
   "outputs": [],
   "source": [
    "x_image = tf.reshape(x,[-1,696,520,1])\n",
    "\n",
    "convo_1 = convolutional_layer(x_image,shape=[10,10,1,32])\n",
    "convo_1_pooling = max_pool_2by2(convo_1)\n",
    "\n",
    "convo_2 = convolutional_layer(convo_1_pooling,shape=[6,6,32,64])\n",
    "convo_2_pooling = max_pool_2by2(convo_2)\n",
    "\n",
    "#  pooling layers, so (696/2)/2 = 174 . 520/2/2 = 130. Note, we would need far more conv layers in a real\n",
    "#life application but this would require a lot of runtime\n",
    "# 64 then just comes from the output of the previous Convolution\n",
    "convo_2_flat = tf.reshape(convo_2_pooling,[-1,130*174*64])\n",
    "full_layer_one = tf.nn.relu(normal_full_layer(convo_2_flat,1024))\n",
    "\n",
    "#placeholders for dropout\n",
    "hold_prob = tf.placeholder(tf.float32)\n",
    "full_one_dropout = tf.nn.dropout(full_layer_one,keep_prob=hold_prob)\n",
    "\n",
    "#output layer\n",
    "y_pred = normal_full_layer(full_one_dropout,2)"
   ]
  },
  {
   "cell_type": "markdown",
   "metadata": {},
   "source": [
    "# Loss function and optimiser"
   ]
  },
  {
   "cell_type": "code",
   "execution_count": null,
   "metadata": {
    "collapsed": true
   },
   "outputs": [],
   "source": [
    "cross_entropy = tf.reduce_mean(tf.nn.softmax_cross_entropy_with_logits(labels=y_true,logits=y_pred))\n",
    "optimizer = tf.train.AdamOptimizer(learning_rate=0.0001)\n",
    "train = optimizer.minimize(cross_entropy)"
   ]
  },
  {
   "cell_type": "markdown",
   "metadata": {},
   "source": [
    "# Run Session"
   ]
  },
  {
   "cell_type": "code",
   "execution_count": null,
   "metadata": {
    "collapsed": true
   },
   "outputs": [],
   "source": [
    "import random\n",
    "init = tf.global_variables_initializer()\n",
    "\n",
    "steps = 1000\n",
    "\n",
    "with tf.Session() as sess:\n",
    "    \n",
    "    sess.run(init)\n",
    "    \n",
    "    for i in range(steps):\n",
    "        batch_indices=random.sample(np.shape(x_train[0]), 10)\n",
    "        batch_x  = x_train[batch_indices]\n",
    "        batch_y = y_train[batch_indices]\n",
    "        \n",
    "        sess.run(train,feed_dict={x:batch_x,y_true:batch_y,hold_prob:0.5})\n",
    "        \n",
    "        # PRINT OUT A MESSAGE EVERY 100 STEPS\n",
    "        if i%1 == 0:\n",
    "            \n",
    "            print('Currently on step {}'.format(i))\n",
    "            print('Accuracy is:')\n",
    "            # Test the Train Model\n",
    "            matches = tf.equal(tf.argmax(y_pred,1),tf.argmax(y_true,1))\n",
    "\n",
    "            acc = tf.reduce_mean(tf.cast(matches,tf.float32))\n",
    "\n",
    "            print(sess.run(acc,feed_dict={x:x_test,y_true:y_test,hold_prob:1.0}))\n",
    "            print('\\n')"
   ]
  },
  {
   "cell_type": "code",
   "execution_count": null,
   "metadata": {},
   "outputs": [],
   "source": []
  },
  {
   "cell_type": "code",
   "execution_count": null,
   "metadata": {
    "collapsed": true
   },
   "outputs": [],
   "source": []
  }
 ],
 "metadata": {
  "kernelspec": {
   "display_name": "Python 3",
   "language": "python",
   "name": "python3"
  },
  "language_info": {
   "codemirror_mode": {
    "name": "ipython",
    "version": 3
   },
   "file_extension": ".py",
   "mimetype": "text/x-python",
   "name": "python",
   "nbconvert_exporter": "python",
   "pygments_lexer": "ipython3",
   "version": "3.5.4"
  }
 },
 "nbformat": 4,
 "nbformat_minor": 2
}
